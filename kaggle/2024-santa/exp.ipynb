{
 "cells": [
  {
   "cell_type": "code",
   "execution_count": 2,
   "metadata": {},
   "outputs": [],
   "source": [
    "import pickle"
   ]
  },
  {
   "cell_type": "code",
   "execution_count": 3,
   "metadata": {},
   "outputs": [],
   "source": [
    "res = dict()\n",
    "for id_ in range(6):\n",
    "    diff_text = []\n",
    "    with open(f\"input/score_block_{id_}.pkl\", mode=\"rb\") as f:\n",
    "        score_block = pickle.load(f)\n",
    "        for k in score_block:\n",
    "            score_block[k].sort()\n",
    "        for k in score_block:\n",
    "            if k == max(score_block) or k == 0:\n",
    "                continue\n",
    "            diff = score_block[k][1][0] - score_block[k][0][0]\n",
    "            diff_text.append((diff, score_block[k][0][1], score_block[k][1][1]))\n",
    "        diff_text.sort()\n",
    "        diff_text = diff_text[:3]\n",
    "        res[id_] = diff_text"
   ]
  },
  {
   "cell_type": "code",
   "execution_count": 4,
   "metadata": {},
   "outputs": [
    {
     "data": {
      "text/plain": [
       "[(97.59297612232916,\n",
       "  'sleigh of holly yuletide cheer unwrap gifts jingle and eat cheer relax sing carol the magi visit workshop grinch is naughty nice chimney stocking nutcracker polar beard',\n",
       "  'yuletide cheer unwrap gifts jingle and eat cheer relax sing carol the magi visit workshop grinch is naughty nice chimney stocking nutcracker polar beard ornament holiday decorations'),\n",
       " (101.14826845759961,\n",
       "  'sleigh of holly yuletide cheer unwrap gifts jingle and eat cheer relax sing carol the magi visit workshop grinch is',\n",
       "  'holly yuletide cheer unwrap gifts jingle and eat cheer relax sing carol the magi visit workshop grinch is naughty nice'),\n",
       " (104.5874193837862,\n",
       "  'sleigh of holly yuletide cheer unwrap gifts jingle and eat cheer relax sing carol the magi visit workshop grinch is naughty nice chimney stocking nutcracker polar',\n",
       "  'yuletide cheer unwrap gifts jingle and eat cheer relax sing carol the magi visit workshop grinch is naughty nice chimney stocking nutcracker polar beard ornament holiday')]"
      ]
     },
     "execution_count": 4,
     "metadata": {},
     "output_type": "execute_result"
    }
   ],
   "source": [
    "res[3]"
   ]
  },
  {
   "cell_type": "code",
   "execution_count": 5,
   "metadata": {},
   "outputs": [
    {
     "data": {
      "text/plain": [
       "[(2.0606665176821934,\n",
       "  'the of to and as in that it we with have not you from eggnog milk chocolate candy peppermint cookie fruitcake toy doll game puzzle greeting card wrapping paper bow wreath',\n",
       "  'of to and as in that it we with have not you from eggnog milk chocolate candy peppermint cookie fruitcake toy doll game puzzle greeting card wrapping paper bow wreath poinsettia'),\n",
       " (7.336733315873289,\n",
       "  'the of to and as in',\n",
       "  'eggnog milk chocolate candy peppermint cookie'),\n",
       " (7.665538258633362,\n",
       "  'the of to and as in that it we with have not you from eggnog milk chocolate candy peppermint cookie fruitcake toy doll game puzzle greeting card wrapping',\n",
       "  'of to and as in that it we with have not you from eggnog milk chocolate candy peppermint cookie fruitcake toy doll game puzzle greeting card wrapping paper')]"
      ]
     },
     "execution_count": 5,
     "metadata": {},
     "output_type": "execute_result"
    }
   ],
   "source": [
    "res[4]"
   ]
  },
  {
   "cell_type": "code",
   "execution_count": 6,
   "metadata": {},
   "outputs": [
    {
     "data": {
      "text/plain": [
       "[(0.0,\n",
       "  'from and and as we and have the in is it of not that the to with you advent card angel bake beard believe bow candy',\n",
       "  'gingerbread greeting grinch holiday holly hohoho hope jingle jump joy kaggle laugh magi merry milk mistletoe naughty nice night night elf nutcracker ornament ornament of the'),\n",
       " (0.734137476083248,\n",
       "  'gingerbread greeting grinch holiday holly hohoho hope jingle jump joy kaggle laugh magi merry milk mistletoe naughty nice night night elf nutcracker ornament ornament of the wrapping paper peace peppermint polar poinsettia puzzle reindeer relax scrooge',\n",
       "  'from and and as we and have the in is it of not that the to with you advent card angel bake beard believe bow candy candle carol cheer cheer chocolate chimney cookie decorations doll dream'),\n",
       " (0.8492885255453757,\n",
       "  'from and and as we and have the in is it of not that the to with you advent card angel bake beard believe bow candy candle carol cheer cheer chocolate chimney cookie decorations doll dream drive eat eggnog family fireplace fireplace chimney fruitcake game',\n",
       "  'gingerbread greeting grinch holiday holly hohoho hope jingle jump joy kaggle laugh magi merry milk mistletoe naughty nice night night elf nutcracker ornament ornament of the wrapping paper peace peppermint polar poinsettia puzzle reindeer relax scrooge season sing sleigh sleep snowglobe star stocking toy unwrap')]"
      ]
     },
     "execution_count": 6,
     "metadata": {},
     "output_type": "execute_result"
    }
   ],
   "source": [
    "res[5]"
   ]
  },
  {
   "cell_type": "code",
   "execution_count": 14,
   "metadata": {},
   "outputs": [],
   "source": [
    "with open(f\"output/blocks.pkl\", mode=\"wb\") as f:\n",
    "    pickle.dump(res, f)"
   ]
  },
  {
   "cell_type": "code",
   "execution_count": 2,
   "metadata": {},
   "outputs": [],
   "source": [
    "import pickle\n",
    "with open(f\"output/blocks.pkl\", mode=\"rb\") as f:\n",
    "    block = pickle.load(f)\n"
   ]
  },
  {
   "cell_type": "code",
   "execution_count": 3,
   "metadata": {},
   "outputs": [
    {
     "name": "stdout",
     "output_type": "stream",
     "text": [
      "{'a': 9, 'b': [1, 2, 3]}\n",
      "{'a': 8, 'b': [1, 2, 3, 3]}\n",
      "{'a': 7, 'b': [1, 2, 3, 3, 3]}\n",
      "{'a': 6, 'b': [1, 2, 3, 3, 3, 3]}\n",
      "{'a': 5, 'b': [1, 2, 3, 3, 3, 3, 3]}\n",
      "{'a': 4, 'b': [1, 2, 3, 3, 3, 3, 3, 3]}\n"
     ]
    }
   ],
   "source": [
    "a = {\"a\": 10, \"b\": [1, 2]}\n",
    "for i in range(6):\n",
    "    a[\"a\"] -= 1\n",
    "    a[\"b\"].append(3)\n",
    "    print(a)"
   ]
  },
  {
   "cell_type": "code",
   "execution_count": null,
   "metadata": {},
   "outputs": [],
   "source": []
  }
 ],
 "metadata": {
  "kernelspec": {
   "display_name": ".venv",
   "language": "python",
   "name": "python3"
  },
  "language_info": {
   "codemirror_mode": {
    "name": "ipython",
    "version": 3
   },
   "file_extension": ".py",
   "mimetype": "text/x-python",
   "name": "python",
   "nbconvert_exporter": "python",
   "pygments_lexer": "ipython3",
   "version": "3.10.12"
  }
 },
 "nbformat": 4,
 "nbformat_minor": 2
}
